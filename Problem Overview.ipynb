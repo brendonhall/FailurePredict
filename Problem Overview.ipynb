{
 "cells": [
  {
   "cell_type": "markdown",
   "metadata": {
    "deletable": true,
    "editable": true
   },
   "source": [
    "ML workflow\n",
    "\n",
    "1. Create an initial (simple) model\n",
    "2. Check distribution of target and features, apply non-linear transforms if necessary\n",
    "3. Rerun model with non-linear transforms\n",
    "4. Look for interactions between features and add new features to capture those interactions if necessary\n",
    "5. Rerun model with the interactions\n",
    "6. Do some feature engineering to compute new features.\n",
    "7. Rerun model with new features\n",
    "8. Apply feature selection and/or a PCA to reduce dimensionality\n",
    "9. Run the full pipeline with different estimators, e.g. support vector machies, decision trees, boosted ensembles, etc.\n",
    "10. Evaluate the final model"
   ]
  },
  {
   "cell_type": "code",
   "execution_count": null,
   "metadata": {
    "collapsed": true,
    "deletable": true,
    "editable": true
   },
   "outputs": [],
   "source": []
  }
 ],
 "metadata": {
  "kernelspec": {
   "display_name": "Python 3",
   "language": "python",
   "name": "python3"
  },
  "language_info": {
   "codemirror_mode": {
    "name": "ipython",
    "version": 3
   },
   "file_extension": ".py",
   "mimetype": "text/x-python",
   "name": "python",
   "nbconvert_exporter": "python",
   "pygments_lexer": "ipython3",
   "version": "3.5.2"
  }
 },
 "nbformat": 4,
 "nbformat_minor": 2
}
